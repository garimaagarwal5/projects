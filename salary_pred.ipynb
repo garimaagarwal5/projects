{
 "cells": [
  {
   "cell_type": "code",
   "execution_count": 1,
   "metadata": {},
   "outputs": [
    {
     "name": "stderr",
     "output_type": "stream",
     "text": [
      "2024-04-18 15:48:44.944 \n",
      "  \u001b[33m\u001b[1mWarning:\u001b[0m to view this Streamlit app on a browser, run it with the following\n",
      "  command:\n",
      "\n",
      "    streamlit run C:\\Users\\Admin\\AppData\\Roaming\\Python\\Python311\\site-packages\\ipykernel_launcher.py [ARGUMENTS]\n",
      "c:\\Users\\Admin\\AppData\\Local\\Programs\\Python\\Python311\\Lib\\site-packages\\sklearn\\base.py:493: UserWarning: X does not have valid feature names, but LinearRegression was fitted with feature names\n",
      "  warnings.warn(\n"
     ]
    }
   ],
   "source": [
    "import pandas as pd\n",
    "import streamlit as st\n",
    "df=pd.read_csv(\"salary_predict_dataset.csv\")\n",
    "df.head()\n",
    "x=df.iloc[:,:4]\n",
    "y=df.iloc[:,4:]\n",
    "from sklearn.model_selection import train_test_split\n",
    "x_train,x_test,y_train,y_test=train_test_split(x,y,test_size=0.2,random_state=0)#random state is use to train model on same values,so accuarcy will be also same\n",
    "from sklearn.linear_model import LinearRegression\n",
    "lr=LinearRegression()\n",
    "lr.fit(x_train,y_train)\n",
    "st.header(\"Salary Prediction\")\n",
    "st.sidebar.header(\"user Input\")\n",
    "exp=st.sidebar.slider(\"Number of exprience\",0,15,4)\n",
    "cgpa=st.sidebar.slider(\"CGPA Score\",0,10,5)\n",
    "age=st.sidebar.slider(\"age\",18,60,20)\n",
    "int_scr=st.sidebar.slider(\"Interview Score\",0,100,50)\n",
    "y_pred1=lr.predict([[exp,cgpa,age,int_scr]])\n",
    "y_pred2=lr.predict(x_test)\n",
    "st.subheader(\"Predicted Salary\")\n",
    "st.write(y_pred1)\n",
    "from sklearn.metrics import r2_score\n",
    "st.subheader(\"Accuracy\")\n",
    "st.write(r2_score(y_test,y_pred2))\n"
   ]
  }
 ],
 "metadata": {
  "kernelspec": {
   "display_name": "Python 3",
   "language": "python",
   "name": "python3"
  },
  "language_info": {
   "codemirror_mode": {
    "name": "ipython",
    "version": 3
   },
   "file_extension": ".py",
   "mimetype": "text/x-python",
   "name": "python",
   "nbconvert_exporter": "python",
   "pygments_lexer": "ipython3",
   "version": "3.11.5"
  }
 },
 "nbformat": 4,
 "nbformat_minor": 2
}
