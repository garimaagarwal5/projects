{
 "cells": [
  {
   "cell_type": "code",
   "execution_count": null,
   "metadata": {},
   "outputs": [],
   "source": []
  },
  {
   "cell_type": "code",
   "execution_count": 18,
   "metadata": {},
   "outputs": [
    {
     "name": "stdout",
     "output_type": "stream",
     "text": [
      "Mist\n",
      "292.77\n",
      "77\n"
     ]
    }
   ],
   "source": [
    "import requests\n",
    "\n",
    "API_key='85067b69968231c8f70d1a37fdd61959'\n",
    "city_name=input(\"enter city\")\n",
    "weather_data=requests.get(f\"https://api.openweathermap.org/data/2.5/weather?q={city_name}&appid={API_key}\")\n",
    "weather_data=requests.get(f\"https://api.openweathermap.org/data/2.5/weather?q={city_name}&appid={API_key}\")\n",
    "\n",
    "if weather_data.json()['cod']=='404':\n",
    "    print(\"enter correct city\")\n",
    "else:\n",
    "    weather=weather_data.json()['weather'][0]['main']\n",
    "    print(weather)\n",
    "    temp=weather_data.json()['main']['temp']\n",
    "    print(temp)\n",
    "    humidity=weather_data.json()['main']['humidity']\n",
    "    print(humidity)\n"
   ]
  }
 ],
 "metadata": {
  "kernelspec": {
   "display_name": "Python 3",
   "language": "python",
   "name": "python3"
  },
  "language_info": {
   "codemirror_mode": {
    "name": "ipython",
    "version": 3
   },
   "file_extension": ".py",
   "mimetype": "text/x-python",
   "name": "python",
   "nbconvert_exporter": "python",
   "pygments_lexer": "ipython3",
   "version": "3.11.5"
  }
 },
 "nbformat": 4,
 "nbformat_minor": 2
}
